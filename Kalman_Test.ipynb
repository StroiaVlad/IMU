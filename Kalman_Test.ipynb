{
 "cells": [
  {
   "cell_type": "code",
   "execution_count": 1,
   "id": "5028ba41",
   "metadata": {},
   "outputs": [],
   "source": [
    "import os\n",
    "\n",
    "import numpy as np\n",
    "import pandas as pd\n",
    "\n",
    "def getDatasetPath(chosenDataset, withNoise):\n",
    "    # folderNames is a dict containing as keys numbers from 1 to 7 and as values the folder names of the trajectory datasets\n",
    "    folderNames = {1: \"TRAJECTORY 1\", 2: \"TRAJECTORY 2\", 3:\"TRAJECTORY 3\", 4: \"TRAJECTORY 4\", 5: \"TRAJECTORY 5\", 6: \"TRAJECTORY 6\", 7: \"TRAJECTORY 7\"}\n",
    "    # datasets is a dict containing as keys numbers from 1 till 7 and as values tuples containing the names of the datasets\n",
    "    datasets = {1: (\"static_100Hz\", \"static_100Hz_with_noise\"), 2: (\"straight_50Hz\", \"straight_50Hz_with_noise\"), 3: (\"car_turns_100Hz\", \"car_turns_100Hz_with_noise\"),\n",
    "                    4: (\"fast_car_50Hz\", \"fast_car_50Hz_with_noise\"), 5: (\"air_turns_50Hz\", \"air_turns_50Hz_with_noise\"),\n",
    "                    6: (\"climb_and_descent_50Hz\", \"climb_and_descent_50Hz_with_noise\"), 7: (\"whole_flight_20Hz\", \"whole_flight_20Hz_with_noise\")}\n",
    "    folderPath = os.getcwd() + '/measurements/' + str(folderNames[chosenDataset]) + '/'\n",
    "    filePath = folderPath + str(datasets[chosenDataset][1]) if withNoise else folderPath + str(datasets[chosenDataset][0])\n",
    "    return folderPath, filePath\n",
    "\n",
    "def getDataframe(filePath):\n",
    "    with open(filePath, 'r') as f: # firstly open the text file for reading (r)\n",
    "        contents = f.readlines() # read all the lines of the text file and return them as a list of strings\n",
    "    Fs = np.zeros(shape=[1]) #sampling frequency\n",
    "    P0 = np.zeros(shape=[1, 3]) #initial position of IMU\n",
    "    V0 = np.zeros(shape=[1, 3]) #initial velocity of IMU\n",
    "    E0 = np.zeros(shape=[1, 3]) #initial Euler Angles\n",
    "    tempMeasurements = []\n",
    "    indexStartMeasurements = []\n",
    "    for index, line in enumerate(contents):\n",
    "        if len(indexStartMeasurements) == 1:\n",
    "            tempMeasurements.append(contents[index])\n",
    "            continue\n",
    "        if line.find(\"# Sampling frequency (Hz) :\") >= 0: # if \"# Sampling frequency (Hz) :\" string is found, update Fs\n",
    "            Fs[0] = float(contents[index + 1])\n",
    "            continue\n",
    "        if line.find(\"# IMU initial position :\") >= 0: # if \"# IMU initial position :\" string is found, update P0\n",
    "            P0[0] = eval(contents[index + 1])\n",
    "            continue\n",
    "        if line.find(\"# IMU initial velocity :\") >= 0: # if \"# IMU initial velocity :\" string is found, update V0\n",
    "            V0[0] = eval(contents[index + 1])\n",
    "            continue\n",
    "        if line.find(\"# IMU initial Euler's angles :\") >= 0: # if \"## IMU initial Euler's angles :\" update E0\n",
    "            E0[0] = eval(contents[index + 1])\n",
    "        if line.find(\"Time (GPS)\") >= 0: # if \"Time (GPS) :\" update indexStartMeasurements\n",
    "            indexStartMeasurements.append(index)\n",
    "            tempMeasurements.append(contents[index])\n",
    "            continue\n",
    "\n",
    "    df = pd.read_csv(filepath_or_buffer=filePath, sep=\"\\t\", header=indexStartMeasurements[0])\n",
    "    df = df.loc[:, ~df.columns.str.startswith('Unnamed')] # drop columns in the dataframe that start with Unnamed\n",
    "    df.to_csv('data.csv') # save the csv\n",
    "    return Fs, P0, V0, E0, df\n"
   ]
  },
  {
   "cell_type": "code",
   "execution_count": 58,
   "id": "43d68cac",
   "metadata": {},
   "outputs": [],
   "source": [
    "class KalmanFilter:\n",
    "    def __init__(self, P0, V0, E0, R, dt):\n",
    "        self.A = np.array([[1, 0, 0, dt, 0, 0, 0, 0, 0],\n",
    "                          [0, 1, 0, 0, dt, 0, 0, 0, 0],\n",
    "                          [0, 0, 1, 0, 0, dt, 0, 0, 0],\n",
    "                          [0, 0, 0, 1, 0, 0, 0, 0, 0],\n",
    "                          [0, 0, 0, 0, 1, 0, 0, 0, 0],\n",
    "                          [0, 0, 0, 0, 0, 1, 0, 0, 0],\n",
    "                          [0, 0, 0, 0, 0, 0, 1, 0, 0],\n",
    "                          [0, 0, 0, 0, 0, 0, 0, 1, 0],\n",
    "                          [0, 0, 0, 0, 0, 0, 0, 0, 1]])\n",
    "\n",
    "        self.B = np.array([[0.5*dt*dt, 0, 0, 0, 0, 0],\n",
    "                          [0, 0.5*dt*dt, 0, 0, 0, 0],\n",
    "                          [0, 0, 0.5*dt*dt, 0, 0, 0],\n",
    "                          [dt, 0, 0, 0, 0, 0],\n",
    "                          [0, dt, 0, 0, 0, 0],\n",
    "                          [0, 0, dt, 0, 0, 0],\n",
    "                          [0, 0, 0, dt, 0, 0],\n",
    "                          [0, 0, 0, 0, dt, 0],\n",
    "                          [0, 0, 0, 0, 0, dt]])\n",
    "        self.n = np.shape(self.A)[0]                                # row dimension of the A matrix (9 states)\n",
    "        self.x_initial = np.array([P0[0], V0[0], E0[0]]).reshape(self.n, 1)\n",
    "        self.x = np.array([P0[0], V0[0], E0[0]]).reshape(self.n, 1) # state vector X as a 9x1 vector\n",
    "\n",
    "        self.C = np.array([[0, 0, 0, (self.x[3][0] - self.x_initial[3][0])/dt, 0, 0, 0, 0, 0],\n",
    "                          [0, 0, 0, 0, (self.x[4][0] - self.x_initial[4][0])/dt, 0, 0, 0, 0],\n",
    "                          [0, 0, 0, 0, 0, (self.x[5][0] - self.x_initial[5][0])/dt, 0, 0, 0],\n",
    "                          [0, 0, 0, 0, 0, 0, (self.x[6][0] - self.x_initial[6][0])/dt, 0, 0],\n",
    "                          [0, 0, 0, 0, 0, 0, 0, (self.x[7][0] - self.x_initial[7][0])/dt, 0],\n",
    "                          [0, 0, 0, 0, 0, 0, 0, 0, (self.x[8][0] - self.x_initial[8][0])/dt]])\n",
    "\n",
    "        self.P = 500 * np.eye(self.n)                                     # covariance state matrix\n",
    "        # discrete noise model, dt is small\n",
    "        self.sigma_w = 1\n",
    "        # E[w*w.T]\n",
    "        self.Q = (self.sigma_w ^ 2) * np.dot(self.B, self.B.T)\n",
    "        # E[v*v.T]\n",
    "        self.R = R                                    # measurement covariance matrix\n",
    "\n",
    "    # prediction step\n",
    "    def aprioriEstimation(self, u):\n",
    "        self.x = np.dot(self.A, self.x) + np.dot(self.B, u)         # state vector estimation\n",
    "        self.P = np.dot(np.dot(self.A, self.P), self.A.T) + self.Q  # state covariance estimation\n",
    "\n",
    "    # update step\n",
    "    def aposterioriEstimation(self, y):\n",
    "            S = np.linalg.inv(np.dot(np.dot(self.C, self.P), self.C.T) + self.R)\n",
    "            self.K = np.dot(np.dot(self.P, self.C.T), S)\n",
    "            self.x = self.x + np.dot(self.K, (y - np.dot(self.C, self.x)))\n",
    "            self.P = np.dot(np.eye(self.n) - np.dot(self.K, self.C), self.P)\n",
    "\n",
    "def estimation(KF, y, u):\n",
    "    state = np.empty(shape=[KF.n, 1])\n",
    "    covariance = np.empty(shape=[KF.n, 1])\n",
    "    print(state)\n",
    "    for index in range(0, y.shape[0]):\n",
    "        KF.aprioriEstimation(u)\n",
    "        observations = np.array(y[index].reshape(y.shape[1], 1))\n",
    "        KF.aposterioriEstimation(observations)\n",
    "        state = np.concatenate([state, KF.x], axis=1)\n",
    "        #print(state, index)\n",
    "        KF.x_initial = KF.x\n",
    "        covariance = np.concatenate([state, KF.P], axis=1)\n",
    "    state = np.delete(state, 0, axis=1)\n",
    "    covariance = np.delete(covariance, 0, axis=1)\n",
    "    return state, covariance\n"
   ]
  },
  {
   "cell_type": "code",
   "execution_count": 59,
   "id": "c01eeab5",
   "metadata": {},
   "outputs": [
    {
     "name": "stdout",
     "output_type": "stream",
     "text": [
      "/home/vlad/ENAC/IMU/measurements/TRAJECTORY 1/ /home/vlad/ENAC/IMU/measurements/TRAJECTORY 1/static_100Hz_with_noise\n",
      "[[45000.]\n",
      " [45000.]\n",
      " [45000.]\n",
      " [  150.]\n",
      " [  150.]\n",
      " [  150.]\n",
      " [  150.]\n",
      " [  150.]\n",
      " [  150.]]\n"
     ]
    }
   ],
   "source": [
    "import matplotlib.pyplot as plt\n",
    "import scipy as sp\n",
    "\n",
    "\n",
    "chosenDataset = 1 #specify which Trajectory dataset to use\n",
    "withNoise = True #add noise to it\n",
    "\n",
    "# Press the green button in the gutter to run the script\n",
    "if __name__ == '__main__':\n",
    "    folderPath, filePath = getDatasetPath(chosenDataset, withNoise)\n",
    "    print(folderPath, filePath)\n",
    "    Fs, P0, V0, E0, y = getDataframe(filePath)\n",
    "\n",
    "    dt = 1/Fs[0]\n",
    "    u = 0.25 * np.ones([6, 1])\n",
    "    R = y.iloc[:, 1:].cov()\n",
    "    observations = y.iloc[:, 1:] # discard time GPS from the dataframe\n",
    "\n",
    "    obs_numpy = observations.to_numpy()\n",
    "\n",
    "    KF = KalmanFilter(P0, V0, E0, R, dt)\n",
    "    state, covariance = estimation(KF, obs_numpy, u)"
   ]
  },
  {
   "cell_type": "code",
   "execution_count": 60,
   "id": "5f5d4949",
   "metadata": {},
   "outputs": [
    {
     "data": {
      "text/plain": [
       "array([1.25000e-05, 5.00000e-05, 1.12500e-04, ..., 4.49970e+04,\n",
       "       4.49985e+04, 4.50000e+04])"
      ]
     },
     "execution_count": 60,
     "metadata": {},
     "output_type": "execute_result"
    }
   ],
   "source": [
    "state[0, :]"
   ]
  },
  {
   "cell_type": "code",
   "execution_count": 61,
   "id": "4c898969",
   "metadata": {},
   "outputs": [
    {
     "data": {
      "text/plain": [
       "array([1.0000e+00, 2.0000e+00, 3.0000e+00, ..., 5.9998e+04, 5.9999e+04,\n",
       "       6.0000e+04])"
      ]
     },
     "execution_count": 61,
     "metadata": {},
     "output_type": "execute_result"
    }
   ],
   "source": [
    "T=np.linspace(1, y.shape[0], y.shape[0])\n",
    "T"
   ]
  },
  {
   "cell_type": "code",
   "execution_count": 62,
   "id": "4648fb4e",
   "metadata": {},
   "outputs": [
    {
     "data": {
      "image/png": "[encoded data removed]",
      "text/plain": [
       "<Figure size 432x288 with 1 Axes>"
      ]
     },
     "metadata": {
      "needs_background": "light"
     },
     "output_type": "display_data"
    }
   ],
   "source": [
    "fig, ax = plt.subplots()\n",
    "\n",
    "ax.plot(T, state[0, :], linewidth=2.0)\n",
    "\n",
    "plt.show()"
   ]
  }
 ],
 "metadata": {
  "kernelspec": {
   "display_name": "Python 3 (ipykernel)",
   "language": "python",
   "name": "python3"
  },
  "language_info": {
   "codemirror_mode": {
    "name": "ipython",
    "version": 3
   },
   "file_extension": ".py",
   "mimetype": "text/x-python",
   "name": "python",
   "nbconvert_exporter": "python",
   "pygments_lexer": "ipython3",
   "version": "3.8.10"
  }
 },
 "nbformat": 4,
 "nbformat_minor": 5
}
